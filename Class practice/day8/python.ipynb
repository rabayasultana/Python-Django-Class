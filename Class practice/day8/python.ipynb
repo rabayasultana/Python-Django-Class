{
 "cells": [
  {
   "cell_type": "code",
   "execution_count": 3,
   "metadata": {},
   "outputs": [
    {
     "name": "stdout",
     "output_type": "stream",
     "text": [
      "Loop through a list apple\n",
      "Loop through a list banana\n",
      "Loop through a list cherry\n"
     ]
    }
   ],
   "source": [
    "#Loop through a list\n",
    "thisList = [\"apple\", \"banana\", \"cherry\"]\n",
    "for x in thisList:\n",
    "    print('Loop through a list', x)"
   ]
  }
 ],
 "metadata": {
  "kernelspec": {
   "display_name": "Python 3",
   "language": "python",
   "name": "python3"
  },
  "language_info": {
   "codemirror_mode": {
    "name": "ipython",
    "version": 3
   },
   "file_extension": ".py",
   "mimetype": "text/x-python",
   "name": "python",
   "nbconvert_exporter": "python",
   "pygments_lexer": "ipython3",
   "version": "3.11.3"
  }
 },
 "nbformat": 4,
 "nbformat_minor": 2
}
