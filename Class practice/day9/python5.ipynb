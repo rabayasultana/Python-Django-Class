{
 "cells": [
  {
   "cell_type": "code",
   "execution_count": null,
   "metadata": {},
   "outputs": [
    {
     "name": "stdout",
     "output_type": "stream",
     "text": [
      "('apple', 'banana', 'cherry')\n"
     ]
    }
   ],
   "source": [
    "#Tuple\n",
    "#A tuple is a collection which is ordered and unchangeable\n",
    "myTuple = (\"apple\", \"banana\", \"cherry\")\n",
    "print(myTuple)"
   ]
  },
  {
   "cell_type": "code",
   "execution_count": 2,
   "metadata": {},
   "outputs": [
    {
     "name": "stdout",
     "output_type": "stream",
     "text": [
      "('apple', 'banana', 'cherry', 'apple', 'cherry')\n"
     ]
    }
   ],
   "source": [
    "thisTuple = (\"apple\", \"banana\", \"cherry\", \"apple\", \"cherry\")\n",
    "print(thisTuple)"
   ]
  },
  {
   "cell_type": "code",
   "execution_count": 3,
   "metadata": {},
   "outputs": [
    {
     "name": "stdout",
     "output_type": "stream",
     "text": [
      "3\n"
     ]
    }
   ],
   "source": [
    "#length\n",
    "myTuple = (\"apple\", \"banana\", \"cherry\")\n",
    "print(len(myTuple))"
   ]
  },
  {
   "cell_type": "code",
   "execution_count": 4,
   "metadata": {},
   "outputs": [
    {
     "name": "stdout",
     "output_type": "stream",
     "text": [
      "<class 'tuple'>\n"
     ]
    }
   ],
   "source": [
    "#one item tuple,remember the comma\n",
    "thisTuple = (\"apple\",)\n",
    "print(type(thisTuple))"
   ]
  },
  {
   "cell_type": "code",
   "execution_count": null,
   "metadata": {},
   "outputs": [
    {
     "name": "stdout",
     "output_type": "stream",
     "text": [
      "<class 'str'>\n"
     ]
    }
   ],
   "source": [
    "#not a tuple\n",
    "thisTuple = (\"apple\")\n",
    "print(type(thisTuple))"
   ]
  },
  {
   "cell_type": "code",
   "execution_count": 7,
   "metadata": {},
   "outputs": [],
   "source": [
    "#tuple items can be of any type\n",
    "tuple1 = (\"apple\", \"banana\", \"cherry\")\n",
    "tuple2 = (1,5,7,8,3)\n",
    "tuple1 = (True, False, False)"
   ]
  },
  {
   "cell_type": "code",
   "execution_count": 8,
   "metadata": {},
   "outputs": [
    {
     "name": "stdout",
     "output_type": "stream",
     "text": [
      "<class 'tuple'>\n"
     ]
    }
   ],
   "source": [
    "#what is the data type of a tuple\n",
    "#from python's perspective, tuples are defined as objective\n",
    "myTuple = (\"apple\", \"banana\", \"cherry\")\n",
    "print(type(myTuple))"
   ]
  },
  {
   "cell_type": "code",
   "execution_count": 9,
   "metadata": {},
   "outputs": [
    {
     "name": "stdout",
     "output_type": "stream",
     "text": [
      "('apple', 'banana', 'cherry')\n"
     ]
    }
   ],
   "source": [
    "#The tuple constructor\n",
    "thisTuple = tuple((\"apple\", \"banana\", \"cherry\"))\n",
    "print(thisTuple)"
   ]
  },
  {
   "cell_type": "code",
   "execution_count": null,
   "metadata": {},
   "outputs": [
    {
     "name": "stdout",
     "output_type": "stream",
     "text": [
      "banana\n"
     ]
    }
   ],
   "source": [
    "#access the tuple\n",
    "myTuple = (\"apple\", \"banana\", \"cherry\")\n",
    "print(myTuple[1])"
   ]
  },
  {
   "cell_type": "code",
   "execution_count": 11,
   "metadata": {},
   "outputs": [
    {
     "name": "stdout",
     "output_type": "stream",
     "text": [
      "cherry\n"
     ]
    }
   ],
   "source": [
    "#negative indexing\n",
    "myTuple = (\"apple\", \"banana\", \"cherry\")\n",
    "print(myTuple[-1])"
   ]
  },
  {
   "cell_type": "code",
   "execution_count": 12,
   "metadata": {},
   "outputs": [
    {
     "name": "stdout",
     "output_type": "stream",
     "text": [
      "('cherry', 'mango', 'kiwi')\n"
     ]
    }
   ],
   "source": [
    "#range of indexes\n",
    "myTuple = (\"apple\", \"banana\", \"cherry\", \"mango\", \"kiwi\")\n",
    "print(myTuple[2:5])\n"
   ]
  },
  {
   "cell_type": "code",
   "execution_count": 13,
   "metadata": {},
   "outputs": [
    {
     "name": "stdout",
     "output_type": "stream",
     "text": [
      "yes,apple is present\n"
     ]
    }
   ],
   "source": [
    "#to determine if a specific item is present or not\n",
    "myTuple = (\"apple\", \"banana\", \"cherry\")\n",
    "if \"apple\" in myTuple:\n",
    "    print(\"yes,apple is present\")"
   ]
  },
  {
   "cell_type": "code",
   "execution_count": null,
   "metadata": {},
   "outputs": [
    {
     "name": "stdout",
     "output_type": "stream",
     "text": [
      "('apple', 'kiwi', 'cherry')\n"
     ]
    }
   ],
   "source": [
    "#convert the tuple into list\n",
    "x = (\"apple\", \"banana\", \"cherry\")\n",
    "y = list(x)\n",
    "y[1] = \"kiwi\"\n",
    "x = tuple(y)\n",
    "print(x)"
   ]
  },
  {
   "cell_type": "code",
   "execution_count": 15,
   "metadata": {},
   "outputs": [
    {
     "name": "stdout",
     "output_type": "stream",
     "text": [
      "('apple', 'banana', 'cherry', 'orange')\n"
     ]
    }
   ],
   "source": [
    "thisTuple = (\"apple\", \"banana\", \"cherry\")\n",
    "y = list(thisTuple)\n",
    "y.append(\"orange\")\n",
    "thisTuple = tuple(y)\n",
    "print(thisTuple)"
   ]
  },
  {
   "cell_type": "code",
   "execution_count": 16,
   "metadata": {},
   "outputs": [
    {
     "name": "stdout",
     "output_type": "stream",
     "text": [
      "('apple', 'banana', 'cherry', 'orange')\n"
     ]
    }
   ],
   "source": [
    "#create a new tuple\n",
    "thisTuple = (\"apple\", \"banana\", \"cherry\")\n",
    "y = (\"orange\",)\n",
    "thisTuple += y\n",
    "print(thisTuple)"
   ]
  },
  {
   "cell_type": "code",
   "execution_count": 18,
   "metadata": {},
   "outputs": [
    {
     "name": "stdout",
     "output_type": "stream",
     "text": [
      "('banana', 'cherry')\n"
     ]
    }
   ],
   "source": [
    "#convert the tuple into a list\n",
    "thisTuple = (\"apple\", \"banana\", \"cherry\")\n",
    "y = list(thisTuple)\n",
    "y.remove(\"apple\")\n",
    "thisTuple = tuple(y)\n",
    "print(thisTuple)"
   ]
  },
  {
   "cell_type": "code",
   "execution_count": 20,
   "metadata": {},
   "outputs": [],
   "source": [
    "#del keyword can delete entire tuple\n",
    "thisTuple = (\"apple\", \"banana\", \"cherry\")\n",
    "del thisTuple\n",
    "# print(thisTuple)"
   ]
  },
  {
   "cell_type": "code",
   "execution_count": 21,
   "metadata": {},
   "outputs": [
    {
     "name": "stdout",
     "output_type": "stream",
     "text": [
      "apple\n",
      "banana\n",
      "cherry\n"
     ]
    }
   ],
   "source": [
    "#unpacking a tuple\n",
    "fruits = (\"apple\", \"banana\", \"cherry\")\n",
    "(green, yellow, red) = fruits\n",
    "print(green)\n",
    "print(yellow)\n",
    "print(red)"
   ]
  },
  {
   "cell_type": "code",
   "execution_count": null,
   "metadata": {},
   "outputs": [
    {
     "name": "stdout",
     "output_type": "stream",
     "text": [
      "apple\n",
      "banana\n",
      "['cherry', 'strawberry', 'kiwi', 'mango']\n"
     ]
    }
   ],
   "source": [
    "\n",
    "#asterisk\n",
    "fruits = (\"apple\", \"banana\", \"cherry\", \"strawberry\", \"kiwi\", \"mango\")\n",
    "(green, yellow, *red) = fruits\n",
    "print(green)\n",
    "print(yellow)\n",
    "print(red)"
   ]
  },
  {
   "cell_type": "code",
   "execution_count": 23,
   "metadata": {},
   "outputs": [
    {
     "name": "stdout",
     "output_type": "stream",
     "text": [
      "apple\n",
      "['banana', 'cherry', 'strawberry', 'kiwi']\n",
      "mango\n"
     ]
    }
   ],
   "source": [
    "fruits = (\"apple\", \"banana\", \"cherry\", \"strawberry\", \"kiwi\", \"mango\")\n",
    "(green, *yellow, red) = fruits\n",
    "print(green)\n",
    "print(yellow)\n",
    "print(red)"
   ]
  },
  {
   "cell_type": "code",
   "execution_count": 25,
   "metadata": {},
   "outputs": [
    {
     "name": "stdout",
     "output_type": "stream",
     "text": [
      "apple\n",
      "banana\n",
      "cherry\n"
     ]
    }
   ],
   "source": [
    "#Loop through a tuple\n",
    "thisTuple = (\"apple\", \"banana\", \"cherry\")\n",
    "for x in thisTuple:\n",
    "    print(x)"
   ]
  },
  {
   "cell_type": "code",
   "execution_count": null,
   "metadata": {},
   "outputs": [
    {
     "name": "stdout",
     "output_type": "stream",
     "text": [
      "apple\n",
      "banana\n",
      "cherry\n"
     ]
    }
   ],
   "source": [
    "#Loop through the index number\n",
    "thisTuple = (\"apple\", \"banana\", \"cherry\")\n",
    "for i in range(len(thisTuple)):\n",
    "    print(thisTuple[i])"
   ]
  },
  {
   "cell_type": "code",
   "execution_count": 27,
   "metadata": {},
   "outputs": [
    {
     "name": "stdout",
     "output_type": "stream",
     "text": [
      "apple\n",
      "banana\n",
      "cherry\n"
     ]
    }
   ],
   "source": [
    "#while loop\n",
    "thisTuple = (\"apple\", \"banana\", \"cherry\")\n",
    "i = 0\n",
    "while i < len(thisTuple):\n",
    "    print(thisTuple[i])\n",
    "    i = i + 1"
   ]
  },
  {
   "cell_type": "code",
   "execution_count": null,
   "metadata": {},
   "outputs": [
    {
     "name": "stdout",
     "output_type": "stream",
     "text": [
      "('a', 'b', 'c', 1, 2, 3)\n"
     ]
    }
   ],
   "source": [
    "#Tuple join\n",
    "tuple1 = (\"a\", \"b\", \"c\")\n",
    "tuple2 = (1, 2, 3)\n",
    "tuple3 = tuple1 + tuple2\n",
    "print(tuple3)"
   ]
  },
  {
   "cell_type": "code",
   "execution_count": 31,
   "metadata": {},
   "outputs": [
    {
     "name": "stdout",
     "output_type": "stream",
     "text": [
      "('a', 'b', 'c', 'a', 'b', 'c', 'a', 'b', 'c')\n"
     ]
    }
   ],
   "source": [
    "#multiply tuple\n",
    "tuple1 = (\"a\", \"b\", \"c\")\n",
    "myTuple = tuple1 * 3\n",
    "print(myTuple)"
   ]
  },
  {
   "cell_type": "code",
   "execution_count": null,
   "metadata": {},
   "outputs": [
    {
     "name": "stdout",
     "output_type": "stream",
     "text": [
      "{'apple', 'banana', 'cherry'}\n"
     ]
    }
   ],
   "source": [
    "#sets are used to store multiple items\n",
    "thisSet = {\"apple\", \"banana\", \"cherry\"}\n",
    "print(thisSet)"
   ]
  },
  {
   "cell_type": "code",
   "execution_count": 33,
   "metadata": {},
   "outputs": [
    {
     "name": "stdout",
     "output_type": "stream",
     "text": [
      "{'apple', 'banana', 'cherry'}\n"
     ]
    }
   ],
   "source": [
    "#duplicate values will be ignored\n",
    "thisSet = {\"apple\", \"banana\", \"cherry\", \"apple\", \"cherry\"}\n",
    "print(thisSet)"
   ]
  },
  {
   "cell_type": "code",
   "execution_count": 34,
   "metadata": {},
   "outputs": [
    {
     "name": "stdout",
     "output_type": "stream",
     "text": [
      "{True, 2, 'cherry', 'apple', 'banana'}\n"
     ]
    }
   ],
   "source": [
    "#true and 1 are same\n",
    "thisSet = {\"apple\", \"banana\", \"cherry\", \"apple\", \"cherry\", True, 1, 2}\n",
    "print(thisSet)"
   ]
  },
  {
   "cell_type": "code",
   "execution_count": 35,
   "metadata": {},
   "outputs": [
    {
     "name": "stdout",
     "output_type": "stream",
     "text": [
      "{False, True, 2, 'cherry', 'apple', 'banana'}\n"
     ]
    }
   ],
   "source": [
    "#False and 0\n",
    "thisSet = {\"apple\", \"banana\", \"cherry\", \"apple\", \"cherry\", True, 1, 2, False, 0}\n",
    "print(thisSet)"
   ]
  },
  {
   "cell_type": "code",
   "execution_count": 37,
   "metadata": {},
   "outputs": [
    {
     "name": "stdout",
     "output_type": "stream",
     "text": [
      "3\n"
     ]
    }
   ],
   "source": [
    "#get the number of items in a set\n",
    "thisSet = {\"apple\", \"banana\", \"cherry\", \"apple\"}\n",
    "print(len(thisSet))"
   ]
  },
  {
   "cell_type": "code",
   "execution_count": null,
   "metadata": {},
   "outputs": [],
   "source": [
    "#string, int, and boolean data types\n",
    "set1 = {\"apple\", \"banana\", \"cherry\"}\n",
    "set2 = {1, 2, 3}\n",
    "set3 = {True, False, True}"
   ]
  },
  {
   "cell_type": "code",
   "execution_count": 38,
   "metadata": {},
   "outputs": [
    {
     "name": "stdout",
     "output_type": "stream",
     "text": [
      "{True, 34, 'cherry', 'apple', 'banana'}\n"
     ]
    }
   ],
   "source": [
    "#set with different data types\n",
    "set1 = {\"apple\", \"banana\", \"cherry\", 34, True}\n",
    "print(set1)"
   ]
  },
  {
   "cell_type": "code",
   "execution_count": null,
   "metadata": {},
   "outputs": [
    {
     "name": "stdout",
     "output_type": "stream",
     "text": [
      "<class 'set'>\n"
     ]
    }
   ],
   "source": [
    "set1 = {\"apple\", \"banana\", \"cherry\", 34, True}\n",
    "print(type(set1))"
   ]
  },
  {
   "cell_type": "code",
   "execution_count": 40,
   "metadata": {},
   "outputs": [
    {
     "name": "stdout",
     "output_type": "stream",
     "text": [
      "{'apple', 'banana', 'cherry'}\n"
     ]
    }
   ],
   "source": [
    "thisSet = set((\"apple\", \"banana\", \"cherry\"))\n",
    "print(thisSet)"
   ]
  },
  {
   "cell_type": "code",
   "execution_count": 41,
   "metadata": {},
   "outputs": [
    {
     "name": "stdout",
     "output_type": "stream",
     "text": [
      "apple\n",
      "banana\n",
      "cherry\n"
     ]
    }
   ],
   "source": [
    "set1 = {\"apple\", \"banana\", \"cherry\", 34, True}\n",
    "for x in thisSet:\n",
    "    print(x)"
   ]
  },
  {
   "cell_type": "code",
   "execution_count": 42,
   "metadata": {},
   "outputs": [
    {
     "name": "stdout",
     "output_type": "stream",
     "text": [
      "True\n",
      "False\n"
     ]
    }
   ],
   "source": [
    "set1 = {\"apple\", \"banana\", \"cherry\", 34, True}\n",
    "print(\"banana\" in set1)\n",
    "print(\"banana\" not in set1)\n"
   ]
  },
  {
   "cell_type": "code",
   "execution_count": null,
   "metadata": {},
   "outputs": [],
   "source": [
    "# Add an item to a set"
   ]
  }
 ],
 "metadata": {
  "kernelspec": {
   "display_name": "Python 3",
   "language": "python",
   "name": "python3"
  },
  "language_info": {
   "codemirror_mode": {
    "name": "ipython",
    "version": 3
   },
   "file_extension": ".py",
   "mimetype": "text/x-python",
   "name": "python",
   "nbconvert_exporter": "python",
   "pygments_lexer": "ipython3",
   "version": "3.11.3"
  }
 },
 "nbformat": 4,
 "nbformat_minor": 2
}
